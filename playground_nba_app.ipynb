{
 "cells": [
  {
   "cell_type": "code",
   "execution_count": 1,
   "metadata": {
    "collapsed": true
   },
   "outputs": [],
   "source": [
    "# from flask import render_template, request\n",
    "# from app import app\n",
    "# from a_Model import ModelIt\n",
    "import play_predict as nba\n",
    "import pandas as pd\n",
    "import pymysql as mdb\n",
    "import seaborn as sns"
   ]
  },
  {
   "cell_type": "code",
   "execution_count": 10,
   "metadata": {
    "collapsed": false
   },
   "outputs": [],
   "source": [
    "reload(nba)\n",
    "rowIndex = 150\n",
    "row = rowIndex\n",
    "database = 'next_play'\n",
    "table = 'season_2008'\n",
    "game_id_df = nba.gameIDs_sql(database,table)\n",
    "game_date = '20090119'\n",
    "games_by_date_df = game_id_df[game_id_df['gameID'].str.contains(game_date)]\n",
    "game_id = games_by_date_df.gameID.values[2]\n",
    "teams_list = nba.teams_in_game(game_id)\n",
    "this_game = nba.create_game_frame_sql(database,table,game_id)\n",
    "starting_five = nba.starting_five_from_game(this_game)\n",
    "table = 'streak_frame_with_perf'   \n",
    "\n",
    "\n",
    "\n",
    "starting_five_1 = starting_five[:5]\n",
    "performance_list_table_1 = nba.last_5_next_performance(database,table,starting_five_1,this_game,row)\n"
   ]
  },
  {
   "cell_type": "code",
   "execution_count": 11,
   "metadata": {
    "collapsed": false
   },
   "outputs": [
    {
     "data": {
      "text/html": [
       "<div style=\"max-height:1000px;max-width:1500px;overflow:auto;\">\n",
       "<table border=\"1\" class=\"dataframe\">\n",
       "  <thead>\n",
       "    <tr style=\"text-align: right;\">\n",
       "      <th></th>\n",
       "      <th>Next_1_play</th>\n",
       "      <th>Next_2_play</th>\n",
       "      <th>current_pos</th>\n",
       "      <th>player</th>\n",
       "      <th>player_last5</th>\n",
       "    </tr>\n",
       "  </thead>\n",
       "  <tbody>\n",
       "    <tr>\n",
       "      <th>0</th>\n",
       "      <td> 68.09 %</td>\n",
       "      <td> 51.45 %</td>\n",
       "      <td> 3</td>\n",
       "      <td> Anderson Varejao</td>\n",
       "      <td>  8.9</td>\n",
       "    </tr>\n",
       "    <tr>\n",
       "      <th>1</th>\n",
       "      <td> 67.78 %</td>\n",
       "      <td> 66.04 %</td>\n",
       "      <td> 1</td>\n",
       "      <td>      Ben Wallace</td>\n",
       "      <td>  4.1</td>\n",
       "    </tr>\n",
       "    <tr>\n",
       "      <th>2</th>\n",
       "      <td> 18.15 %</td>\n",
       "      <td> 55.82 %</td>\n",
       "      <td>-3</td>\n",
       "      <td>     LeBron James</td>\n",
       "      <td>  2.5</td>\n",
       "    </tr>\n",
       "    <tr>\n",
       "      <th>3</th>\n",
       "      <td> 50.08 %</td>\n",
       "      <td> 49.16 %</td>\n",
       "      <td>-1</td>\n",
       "      <td>      Mo Williams</td>\n",
       "      <td> 10.2</td>\n",
       "    </tr>\n",
       "    <tr>\n",
       "      <th>4</th>\n",
       "      <td> 51.95 %</td>\n",
       "      <td> 44.67 %</td>\n",
       "      <td>-1</td>\n",
       "      <td>   Sasha Pavlovic</td>\n",
       "      <td>  7.5</td>\n",
       "    </tr>\n",
       "  </tbody>\n",
       "</table>\n",
       "</div>"
      ],
      "text/plain": [
       "  Next_1_play Next_2_play  current_pos            player  player_last5\n",
       "0     68.09 %     51.45 %            3  Anderson Varejao           8.9\n",
       "1     67.78 %     66.04 %            1       Ben Wallace           4.1\n",
       "2     18.15 %     55.82 %           -3      LeBron James           2.5\n",
       "3     50.08 %     49.16 %           -1       Mo Williams          10.2\n",
       "4     51.95 %     44.67 %           -1    Sasha Pavlovic           7.5"
      ]
     },
     "execution_count": 11,
     "metadata": {},
     "output_type": "execute_result"
    }
   ],
   "source": [
    "pd.DataFrame(performance_list_table_1)"
   ]
  },
  {
   "cell_type": "code",
   "execution_count": null,
   "metadata": {
    "collapsed": true
   },
   "outputs": [],
   "source": []
  }
 ],
 "metadata": {
  "kernelspec": {
   "display_name": "Python 2",
   "language": "python",
   "name": "python2"
  },
  "language_info": {
   "codemirror_mode": {
    "name": "ipython",
    "version": 2
   },
   "file_extension": ".py",
   "mimetype": "text/x-python",
   "name": "python",
   "nbconvert_exporter": "python",
   "pygments_lexer": "ipython2",
   "version": "2.7.9"
  }
 },
 "nbformat": 4,
 "nbformat_minor": 0
}
